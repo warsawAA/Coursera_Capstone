{
    "nbformat_minor": 1, 
    "cells": [
        {
            "execution_count": 1, 
            "cell_type": "code", 
            "metadata": {}, 
            "outputs": [], 
            "source": "#using code from two previous notebooks to prep data for segmenting and clustering."
        }, 
        {
            "execution_count": 2, 
            "cell_type": "code", 
            "metadata": {}, 
            "outputs": [
                {
                    "execution_count": 2, 
                    "metadata": {}, 
                    "data": {
                        "text/html": "<div>\n<style scoped>\n    .dataframe tbody tr th:only-of-type {\n        vertical-align: middle;\n    }\n\n    .dataframe tbody tr th {\n        vertical-align: top;\n    }\n\n    .dataframe thead th {\n        text-align: right;\n    }\n</style>\n<table border=\"1\" class=\"dataframe\">\n  <thead>\n    <tr style=\"text-align: right;\">\n      <th></th>\n      <th>Postal Code</th>\n      <th>Latitude</th>\n      <th>Longitude</th>\n    </tr>\n  </thead>\n  <tbody>\n    <tr>\n      <th>0</th>\n      <td>M1B</td>\n      <td>43.806686</td>\n      <td>-79.194353</td>\n    </tr>\n    <tr>\n      <th>1</th>\n      <td>M1C</td>\n      <td>43.784535</td>\n      <td>-79.160497</td>\n    </tr>\n    <tr>\n      <th>2</th>\n      <td>M1E</td>\n      <td>43.763573</td>\n      <td>-79.188711</td>\n    </tr>\n    <tr>\n      <th>3</th>\n      <td>M1G</td>\n      <td>43.770992</td>\n      <td>-79.216917</td>\n    </tr>\n    <tr>\n      <th>4</th>\n      <td>M1H</td>\n      <td>43.773136</td>\n      <td>-79.239476</td>\n    </tr>\n  </tbody>\n</table>\n</div>", 
                        "text/plain": "  Postal Code   Latitude  Longitude\n0         M1B  43.806686 -79.194353\n1         M1C  43.784535 -79.160497\n2         M1E  43.763573 -79.188711\n3         M1G  43.770992 -79.216917\n4         M1H  43.773136 -79.239476"
                    }, 
                    "output_type": "execute_result"
                }
            ], 
            "source": "\nimport pandas as pd\n\nfilename=\"https://cocl.us/Geospatial_data\"\n\ndf=pd.read_csv(filename)\ndf.head()"
        }, 
        {
            "execution_count": 3, 
            "cell_type": "code", 
            "metadata": {}, 
            "outputs": [
                {
                    "output_type": "stream", 
                    "name": "stdout", 
                    "text": "Shape (103, 3)\n"
                }
            ], 
            "source": "import pandas as pd\ndf1=pd.read_html(\"https://en.wikipedia.org/wiki/List_of_postal_codes_of_Canada:_M\")[0]\n\n\n#Joining neighbourhoods within the same Borough to the same column separated with a comma\n\ndf1 = df1.groupby(['Postcode','Borough'])['Neighbourhood'].apply(', '.join).reset_index()\n\n\n#removing entries where Borough value is not assigned.\ndf1=df1[df1.Borough != 'Not assigned']\n\n\ndf1.shape\nprint('Shape', df1.shape)\n"
        }, 
        {
            "execution_count": 4, 
            "cell_type": "code", 
            "metadata": {}, 
            "outputs": [
                {
                    "execution_count": 4, 
                    "metadata": {}, 
                    "data": {
                        "text/plain": "<bound method NDFrame.head of     Postcode   Latitude  Longitude\n0        M1B  43.806686 -79.194353\n1        M1C  43.784535 -79.160497\n2        M1E  43.763573 -79.188711\n3        M1G  43.770992 -79.216917\n4        M1H  43.773136 -79.239476\n5        M1J  43.744734 -79.239476\n6        M1K  43.727929 -79.262029\n7        M1L  43.711112 -79.284577\n8        M1M  43.716316 -79.239476\n9        M1N  43.692657 -79.264848\n10       M1P  43.757410 -79.273304\n11       M1R  43.750072 -79.295849\n12       M1S  43.794200 -79.262029\n13       M1T  43.781638 -79.304302\n14       M1V  43.815252 -79.284577\n15       M1W  43.799525 -79.318389\n16       M1X  43.836125 -79.205636\n17       M2H  43.803762 -79.363452\n18       M2J  43.778517 -79.346556\n19       M2K  43.786947 -79.385975\n20       M2L  43.757490 -79.374714\n21       M2M  43.789053 -79.408493\n22       M2N  43.770120 -79.408493\n23       M2P  43.752758 -79.400049\n24       M2R  43.782736 -79.442259\n25       M3A  43.753259 -79.329656\n26       M3B  43.745906 -79.352188\n27       M3C  43.725900 -79.340923\n28       M3H  43.754328 -79.442259\n29       M3J  43.767980 -79.487262\n..       ...        ...        ...\n73       M6C  43.693781 -79.428191\n74       M6E  43.689026 -79.453512\n75       M6G  43.669542 -79.422564\n76       M6H  43.669005 -79.442259\n77       M6J  43.647927 -79.419750\n78       M6K  43.636847 -79.428191\n79       M6L  43.713756 -79.490074\n80       M6M  43.691116 -79.476013\n81       M6N  43.673185 -79.487262\n82       M6P  43.661608 -79.464763\n83       M6R  43.648960 -79.456325\n84       M6S  43.651571 -79.484450\n85       M7A  43.662301 -79.389494\n86       M7R  43.636966 -79.615819\n87       M7Y  43.662744 -79.321558\n88       M8V  43.605647 -79.501321\n89       M8W  43.602414 -79.543484\n90       M8X  43.653654 -79.506944\n91       M8Y  43.636258 -79.498509\n92       M8Z  43.628841 -79.520999\n93       M9A  43.667856 -79.532242\n94       M9B  43.650943 -79.554724\n95       M9C  43.643515 -79.577201\n96       M9L  43.756303 -79.565963\n97       M9M  43.724766 -79.532242\n98       M9N  43.706876 -79.518188\n99       M9P  43.696319 -79.532242\n100      M9R  43.688905 -79.554724\n101      M9V  43.739416 -79.588437\n102      M9W  43.706748 -79.594054\n\n[103 rows x 3 columns]>"
                    }, 
                    "output_type": "execute_result"
                }
            ], 
            "source": "df.columns = ['Postcode', 'Latitude', 'Longitude']\ndf.head\n"
        }, 
        {
            "execution_count": null, 
            "cell_type": "code", 
            "metadata": {}, 
            "outputs": [
                {
                    "execution_count": 5, 
                    "metadata": {}, 
                    "data": {
                        "text/html": "<div>\n<style scoped>\n    .dataframe tbody tr th:only-of-type {\n        vertical-align: middle;\n    }\n\n    .dataframe tbody tr th {\n        vertical-align: top;\n    }\n\n    .dataframe thead th {\n        text-align: right;\n    }\n</style>\n<table border=\"1\" class=\"dataframe\">\n  <thead>\n    <tr style=\"text-align: right;\">\n      <th></th>\n      <th>Postcode</th>\n      <th>Borough</th>\n      <th>Neighbourhood</th>\n      <th>Latitude</th>\n      <th>Longitude</th>\n    </tr>\n  </thead>\n  <tbody>\n    <tr>\n      <th>0</th>\n      <td>M1B</td>\n      <td>Scarborough</td>\n      <td>Rouge, Malvern</td>\n      <td>43.806686</td>\n      <td>-79.194353</td>\n    </tr>\n    <tr>\n      <th>1</th>\n      <td>M1C</td>\n      <td>Scarborough</td>\n      <td>Highland Creek, Rouge Hill, Port Union</td>\n      <td>43.784535</td>\n      <td>-79.160497</td>\n    </tr>\n    <tr>\n      <th>2</th>\n      <td>M1E</td>\n      <td>Scarborough</td>\n      <td>Guildwood, Morningside, West Hill</td>\n      <td>43.763573</td>\n      <td>-79.188711</td>\n    </tr>\n    <tr>\n      <th>3</th>\n      <td>M1G</td>\n      <td>Scarborough</td>\n      <td>Woburn</td>\n      <td>43.770992</td>\n      <td>-79.216917</td>\n    </tr>\n    <tr>\n      <th>4</th>\n      <td>M1H</td>\n      <td>Scarborough</td>\n      <td>Cedarbrae</td>\n      <td>43.773136</td>\n      <td>-79.239476</td>\n    </tr>\n    <tr>\n      <th>5</th>\n      <td>M1J</td>\n      <td>Scarborough</td>\n      <td>Scarborough Village</td>\n      <td>43.744734</td>\n      <td>-79.239476</td>\n    </tr>\n    <tr>\n      <th>6</th>\n      <td>M1K</td>\n      <td>Scarborough</td>\n      <td>East Birchmount Park, Ionview, Kennedy Park</td>\n      <td>43.727929</td>\n      <td>-79.262029</td>\n    </tr>\n    <tr>\n      <th>7</th>\n      <td>M1L</td>\n      <td>Scarborough</td>\n      <td>Clairlea, Golden Mile, Oakridge</td>\n      <td>43.711112</td>\n      <td>-79.284577</td>\n    </tr>\n    <tr>\n      <th>8</th>\n      <td>M1M</td>\n      <td>Scarborough</td>\n      <td>Cliffcrest, Cliffside, Scarborough Village West</td>\n      <td>43.716316</td>\n      <td>-79.239476</td>\n    </tr>\n    <tr>\n      <th>9</th>\n      <td>M1N</td>\n      <td>Scarborough</td>\n      <td>Birch Cliff, Cliffside West</td>\n      <td>43.692657</td>\n      <td>-79.264848</td>\n    </tr>\n    <tr>\n      <th>10</th>\n      <td>M1P</td>\n      <td>Scarborough</td>\n      <td>Dorset Park, Scarborough Town Centre, Wexford ...</td>\n      <td>43.757410</td>\n      <td>-79.273304</td>\n    </tr>\n    <tr>\n      <th>11</th>\n      <td>M1R</td>\n      <td>Scarborough</td>\n      <td>Maryvale, Wexford</td>\n      <td>43.750072</td>\n      <td>-79.295849</td>\n    </tr>\n    <tr>\n      <th>12</th>\n      <td>M1S</td>\n      <td>Scarborough</td>\n      <td>Agincourt</td>\n      <td>43.794200</td>\n      <td>-79.262029</td>\n    </tr>\n    <tr>\n      <th>13</th>\n      <td>M1T</td>\n      <td>Scarborough</td>\n      <td>Clarks Corners, Sullivan, Tam O'Shanter</td>\n      <td>43.781638</td>\n      <td>-79.304302</td>\n    </tr>\n    <tr>\n      <th>14</th>\n      <td>M1V</td>\n      <td>Scarborough</td>\n      <td>Agincourt North, L'Amoreaux East, Milliken, St...</td>\n      <td>43.815252</td>\n      <td>-79.284577</td>\n    </tr>\n    <tr>\n      <th>15</th>\n      <td>M1W</td>\n      <td>Scarborough</td>\n      <td>L'Amoreaux West</td>\n      <td>43.799525</td>\n      <td>-79.318389</td>\n    </tr>\n    <tr>\n      <th>16</th>\n      <td>M1X</td>\n      <td>Scarborough</td>\n      <td>Upper Rouge</td>\n      <td>43.836125</td>\n      <td>-79.205636</td>\n    </tr>\n    <tr>\n      <th>17</th>\n      <td>M2H</td>\n      <td>North York</td>\n      <td>Hillcrest Village</td>\n      <td>43.803762</td>\n      <td>-79.363452</td>\n    </tr>\n    <tr>\n      <th>18</th>\n      <td>M2J</td>\n      <td>North York</td>\n      <td>Fairview, Henry Farm, Oriole</td>\n      <td>43.778517</td>\n      <td>-79.346556</td>\n    </tr>\n    <tr>\n      <th>19</th>\n      <td>M2K</td>\n      <td>North York</td>\n      <td>Bayview Village</td>\n      <td>43.786947</td>\n      <td>-79.385975</td>\n    </tr>\n    <tr>\n      <th>20</th>\n      <td>M2L</td>\n      <td>North York</td>\n      <td>Silver Hills, York Mills</td>\n      <td>43.757490</td>\n      <td>-79.374714</td>\n    </tr>\n    <tr>\n      <th>21</th>\n      <td>M2M</td>\n      <td>North York</td>\n      <td>Newtonbrook, Willowdale</td>\n      <td>43.789053</td>\n      <td>-79.408493</td>\n    </tr>\n    <tr>\n      <th>22</th>\n      <td>M2N</td>\n      <td>North York</td>\n      <td>Willowdale South</td>\n      <td>43.770120</td>\n      <td>-79.408493</td>\n    </tr>\n    <tr>\n      <th>23</th>\n      <td>M2P</td>\n      <td>North York</td>\n      <td>York Mills West</td>\n      <td>43.752758</td>\n      <td>-79.400049</td>\n    </tr>\n    <tr>\n      <th>24</th>\n      <td>M2R</td>\n      <td>North York</td>\n      <td>Willowdale West</td>\n      <td>43.782736</td>\n      <td>-79.442259</td>\n    </tr>\n    <tr>\n      <th>25</th>\n      <td>M3A</td>\n      <td>North York</td>\n      <td>Parkwoods</td>\n      <td>43.753259</td>\n      <td>-79.329656</td>\n    </tr>\n    <tr>\n      <th>26</th>\n      <td>M3B</td>\n      <td>North York</td>\n      <td>Don Mills North</td>\n      <td>43.745906</td>\n      <td>-79.352188</td>\n    </tr>\n    <tr>\n      <th>27</th>\n      <td>M3C</td>\n      <td>North York</td>\n      <td>Flemingdon Park, Don Mills South</td>\n      <td>43.725900</td>\n      <td>-79.340923</td>\n    </tr>\n    <tr>\n      <th>28</th>\n      <td>M3H</td>\n      <td>North York</td>\n      <td>Bathurst Manor, Downsview North, Wilson Heights</td>\n      <td>43.754328</td>\n      <td>-79.442259</td>\n    </tr>\n    <tr>\n      <th>29</th>\n      <td>M3J</td>\n      <td>North York</td>\n      <td>Northwood Park, York University</td>\n      <td>43.767980</td>\n      <td>-79.487262</td>\n    </tr>\n    <tr>\n      <th>...</th>\n      <td>...</td>\n      <td>...</td>\n      <td>...</td>\n      <td>...</td>\n      <td>...</td>\n    </tr>\n    <tr>\n      <th>73</th>\n      <td>M6C</td>\n      <td>York</td>\n      <td>Humewood-Cedarvale</td>\n      <td>43.693781</td>\n      <td>-79.428191</td>\n    </tr>\n    <tr>\n      <th>74</th>\n      <td>M6E</td>\n      <td>York</td>\n      <td>Caledonia-Fairbanks</td>\n      <td>43.689026</td>\n      <td>-79.453512</td>\n    </tr>\n    <tr>\n      <th>75</th>\n      <td>M6G</td>\n      <td>Downtown Toronto</td>\n      <td>Christie</td>\n      <td>43.669542</td>\n      <td>-79.422564</td>\n    </tr>\n    <tr>\n      <th>76</th>\n      <td>M6H</td>\n      <td>West Toronto</td>\n      <td>Dovercourt Village, Dufferin</td>\n      <td>43.669005</td>\n      <td>-79.442259</td>\n    </tr>\n    <tr>\n      <th>77</th>\n      <td>M6J</td>\n      <td>West Toronto</td>\n      <td>Little Portugal, Trinity</td>\n      <td>43.647927</td>\n      <td>-79.419750</td>\n    </tr>\n    <tr>\n      <th>78</th>\n      <td>M6K</td>\n      <td>West Toronto</td>\n      <td>Brockton, Exhibition Place, Parkdale Village</td>\n      <td>43.636847</td>\n      <td>-79.428191</td>\n    </tr>\n    <tr>\n      <th>79</th>\n      <td>M6L</td>\n      <td>North York</td>\n      <td>Downsview, North Park, Upwood Park</td>\n      <td>43.713756</td>\n      <td>-79.490074</td>\n    </tr>\n    <tr>\n      <th>80</th>\n      <td>M6M</td>\n      <td>York</td>\n      <td>Del Ray, Keelesdale, Mount Dennis, Silverthorn</td>\n      <td>43.691116</td>\n      <td>-79.476013</td>\n    </tr>\n    <tr>\n      <th>81</th>\n      <td>M6N</td>\n      <td>York</td>\n      <td>The Junction North, Runnymede</td>\n      <td>43.673185</td>\n      <td>-79.487262</td>\n    </tr>\n    <tr>\n      <th>82</th>\n      <td>M6P</td>\n      <td>West Toronto</td>\n      <td>High Park, The Junction South</td>\n      <td>43.661608</td>\n      <td>-79.464763</td>\n    </tr>\n    <tr>\n      <th>83</th>\n      <td>M6R</td>\n      <td>West Toronto</td>\n      <td>Parkdale, Roncesvalles</td>\n      <td>43.648960</td>\n      <td>-79.456325</td>\n    </tr>\n    <tr>\n      <th>84</th>\n      <td>M6S</td>\n      <td>West Toronto</td>\n      <td>Runnymede, Swansea</td>\n      <td>43.651571</td>\n      <td>-79.484450</td>\n    </tr>\n    <tr>\n      <th>85</th>\n      <td>M7A</td>\n      <td>Queen's Park</td>\n      <td>Not assigned</td>\n      <td>43.662301</td>\n      <td>-79.389494</td>\n    </tr>\n    <tr>\n      <th>86</th>\n      <td>M7R</td>\n      <td>Mississauga</td>\n      <td>Canada Post Gateway Processing Centre</td>\n      <td>43.636966</td>\n      <td>-79.615819</td>\n    </tr>\n    <tr>\n      <th>87</th>\n      <td>M7Y</td>\n      <td>East Toronto</td>\n      <td>Business Reply Mail Processing Centre 969 Eastern</td>\n      <td>43.662744</td>\n      <td>-79.321558</td>\n    </tr>\n    <tr>\n      <th>88</th>\n      <td>M8V</td>\n      <td>Etobicoke</td>\n      <td>Humber Bay Shores, Mimico South, New Toronto</td>\n      <td>43.605647</td>\n      <td>-79.501321</td>\n    </tr>\n    <tr>\n      <th>89</th>\n      <td>M8W</td>\n      <td>Etobicoke</td>\n      <td>Alderwood, Long Branch</td>\n      <td>43.602414</td>\n      <td>-79.543484</td>\n    </tr>\n    <tr>\n      <th>90</th>\n      <td>M8X</td>\n      <td>Etobicoke</td>\n      <td>The Kingsway, Montgomery Road, Old Mill North</td>\n      <td>43.653654</td>\n      <td>-79.506944</td>\n    </tr>\n    <tr>\n      <th>91</th>\n      <td>M8Y</td>\n      <td>Etobicoke</td>\n      <td>Humber Bay, King's Mill Park, Kingsway Park So...</td>\n      <td>43.636258</td>\n      <td>-79.498509</td>\n    </tr>\n    <tr>\n      <th>92</th>\n      <td>M8Z</td>\n      <td>Etobicoke</td>\n      <td>Kingsway Park South West, Mimico NW, The Queen...</td>\n      <td>43.628841</td>\n      <td>-79.520999</td>\n    </tr>\n    <tr>\n      <th>93</th>\n      <td>M9A</td>\n      <td>Etobicoke</td>\n      <td>Islington Avenue</td>\n      <td>43.667856</td>\n      <td>-79.532242</td>\n    </tr>\n    <tr>\n      <th>94</th>\n      <td>M9B</td>\n      <td>Etobicoke</td>\n      <td>Cloverdale, Islington, Martin Grove, Princess ...</td>\n      <td>43.650943</td>\n      <td>-79.554724</td>\n    </tr>\n    <tr>\n      <th>95</th>\n      <td>M9C</td>\n      <td>Etobicoke</td>\n      <td>Bloordale Gardens, Eringate, Markland Wood, Ol...</td>\n      <td>43.643515</td>\n      <td>-79.577201</td>\n    </tr>\n    <tr>\n      <th>96</th>\n      <td>M9L</td>\n      <td>North York</td>\n      <td>Humber Summit</td>\n      <td>43.756303</td>\n      <td>-79.565963</td>\n    </tr>\n    <tr>\n      <th>97</th>\n      <td>M9M</td>\n      <td>North York</td>\n      <td>Emery, Humberlea</td>\n      <td>43.724766</td>\n      <td>-79.532242</td>\n    </tr>\n    <tr>\n      <th>98</th>\n      <td>M9N</td>\n      <td>York</td>\n      <td>Weston</td>\n      <td>43.706876</td>\n      <td>-79.518188</td>\n    </tr>\n    <tr>\n      <th>99</th>\n      <td>M9P</td>\n      <td>Etobicoke</td>\n      <td>Westmount</td>\n      <td>43.696319</td>\n      <td>-79.532242</td>\n    </tr>\n    <tr>\n      <th>100</th>\n      <td>M9R</td>\n      <td>Etobicoke</td>\n      <td>Kingsview Village, Martin Grove Gardens, Richv...</td>\n      <td>43.688905</td>\n      <td>-79.554724</td>\n    </tr>\n    <tr>\n      <th>101</th>\n      <td>M9V</td>\n      <td>Etobicoke</td>\n      <td>Albion Gardens, Beaumond Heights, Humbergate, ...</td>\n      <td>43.739416</td>\n      <td>-79.588437</td>\n    </tr>\n    <tr>\n      <th>102</th>\n      <td>M9W</td>\n      <td>Etobicoke</td>\n      <td>Northwest</td>\n      <td>43.706748</td>\n      <td>-79.594054</td>\n    </tr>\n  </tbody>\n</table>\n<p>103 rows \u00d7 5 columns</p>\n</div>", 
                        "text/plain": "    Postcode           Borough  \\\n0        M1B       Scarborough   \n1        M1C       Scarborough   \n2        M1E       Scarborough   \n3        M1G       Scarborough   \n4        M1H       Scarborough   \n5        M1J       Scarborough   \n6        M1K       Scarborough   \n7        M1L       Scarborough   \n8        M1M       Scarborough   \n9        M1N       Scarborough   \n10       M1P       Scarborough   \n11       M1R       Scarborough   \n12       M1S       Scarborough   \n13       M1T       Scarborough   \n14       M1V       Scarborough   \n15       M1W       Scarborough   \n16       M1X       Scarborough   \n17       M2H        North York   \n18       M2J        North York   \n19       M2K        North York   \n20       M2L        North York   \n21       M2M        North York   \n22       M2N        North York   \n23       M2P        North York   \n24       M2R        North York   \n25       M3A        North York   \n26       M3B        North York   \n27       M3C        North York   \n28       M3H        North York   \n29       M3J        North York   \n..       ...               ...   \n73       M6C              York   \n74       M6E              York   \n75       M6G  Downtown Toronto   \n76       M6H      West Toronto   \n77       M6J      West Toronto   \n78       M6K      West Toronto   \n79       M6L        North York   \n80       M6M              York   \n81       M6N              York   \n82       M6P      West Toronto   \n83       M6R      West Toronto   \n84       M6S      West Toronto   \n85       M7A      Queen's Park   \n86       M7R       Mississauga   \n87       M7Y      East Toronto   \n88       M8V         Etobicoke   \n89       M8W         Etobicoke   \n90       M8X         Etobicoke   \n91       M8Y         Etobicoke   \n92       M8Z         Etobicoke   \n93       M9A         Etobicoke   \n94       M9B         Etobicoke   \n95       M9C         Etobicoke   \n96       M9L        North York   \n97       M9M        North York   \n98       M9N              York   \n99       M9P         Etobicoke   \n100      M9R         Etobicoke   \n101      M9V         Etobicoke   \n102      M9W         Etobicoke   \n\n                                         Neighbourhood   Latitude  Longitude  \n0                                       Rouge, Malvern  43.806686 -79.194353  \n1               Highland Creek, Rouge Hill, Port Union  43.784535 -79.160497  \n2                    Guildwood, Morningside, West Hill  43.763573 -79.188711  \n3                                               Woburn  43.770992 -79.216917  \n4                                            Cedarbrae  43.773136 -79.239476  \n5                                  Scarborough Village  43.744734 -79.239476  \n6          East Birchmount Park, Ionview, Kennedy Park  43.727929 -79.262029  \n7                      Clairlea, Golden Mile, Oakridge  43.711112 -79.284577  \n8      Cliffcrest, Cliffside, Scarborough Village West  43.716316 -79.239476  \n9                          Birch Cliff, Cliffside West  43.692657 -79.264848  \n10   Dorset Park, Scarborough Town Centre, Wexford ...  43.757410 -79.273304  \n11                                   Maryvale, Wexford  43.750072 -79.295849  \n12                                           Agincourt  43.794200 -79.262029  \n13             Clarks Corners, Sullivan, Tam O'Shanter  43.781638 -79.304302  \n14   Agincourt North, L'Amoreaux East, Milliken, St...  43.815252 -79.284577  \n15                                     L'Amoreaux West  43.799525 -79.318389  \n16                                         Upper Rouge  43.836125 -79.205636  \n17                                   Hillcrest Village  43.803762 -79.363452  \n18                        Fairview, Henry Farm, Oriole  43.778517 -79.346556  \n19                                     Bayview Village  43.786947 -79.385975  \n20                            Silver Hills, York Mills  43.757490 -79.374714  \n21                             Newtonbrook, Willowdale  43.789053 -79.408493  \n22                                    Willowdale South  43.770120 -79.408493  \n23                                     York Mills West  43.752758 -79.400049  \n24                                     Willowdale West  43.782736 -79.442259  \n25                                           Parkwoods  43.753259 -79.329656  \n26                                     Don Mills North  43.745906 -79.352188  \n27                    Flemingdon Park, Don Mills South  43.725900 -79.340923  \n28     Bathurst Manor, Downsview North, Wilson Heights  43.754328 -79.442259  \n29                     Northwood Park, York University  43.767980 -79.487262  \n..                                                 ...        ...        ...  \n73                                  Humewood-Cedarvale  43.693781 -79.428191  \n74                                 Caledonia-Fairbanks  43.689026 -79.453512  \n75                                            Christie  43.669542 -79.422564  \n76                        Dovercourt Village, Dufferin  43.669005 -79.442259  \n77                            Little Portugal, Trinity  43.647927 -79.419750  \n78        Brockton, Exhibition Place, Parkdale Village  43.636847 -79.428191  \n79                  Downsview, North Park, Upwood Park  43.713756 -79.490074  \n80      Del Ray, Keelesdale, Mount Dennis, Silverthorn  43.691116 -79.476013  \n81                       The Junction North, Runnymede  43.673185 -79.487262  \n82                       High Park, The Junction South  43.661608 -79.464763  \n83                              Parkdale, Roncesvalles  43.648960 -79.456325  \n84                                  Runnymede, Swansea  43.651571 -79.484450  \n85                                        Not assigned  43.662301 -79.389494  \n86               Canada Post Gateway Processing Centre  43.636966 -79.615819  \n87   Business Reply Mail Processing Centre 969 Eastern  43.662744 -79.321558  \n88        Humber Bay Shores, Mimico South, New Toronto  43.605647 -79.501321  \n89                              Alderwood, Long Branch  43.602414 -79.543484  \n90       The Kingsway, Montgomery Road, Old Mill North  43.653654 -79.506944  \n91   Humber Bay, King's Mill Park, Kingsway Park So...  43.636258 -79.498509  \n92   Kingsway Park South West, Mimico NW, The Queen...  43.628841 -79.520999  \n93                                    Islington Avenue  43.667856 -79.532242  \n94   Cloverdale, Islington, Martin Grove, Princess ...  43.650943 -79.554724  \n95   Bloordale Gardens, Eringate, Markland Wood, Ol...  43.643515 -79.577201  \n96                                       Humber Summit  43.756303 -79.565963  \n97                                    Emery, Humberlea  43.724766 -79.532242  \n98                                              Weston  43.706876 -79.518188  \n99                                           Westmount  43.696319 -79.532242  \n100  Kingsview Village, Martin Grove Gardens, Richv...  43.688905 -79.554724  \n101  Albion Gardens, Beaumond Heights, Humbergate, ...  43.739416 -79.588437  \n102                                          Northwest  43.706748 -79.594054  \n\n[103 rows x 5 columns]"
                    }, 
                    "output_type": "execute_result"
                }
            ], 
            "source": "import pandas as pd\nleft = df1\nright = df\ndf3=pd.merge(left, right, on='Postcode')\ndf3"
        }, 
        {
            "source": "Starting code for segmenting and clustering Toronto data", 
            "cell_type": "markdown", 
            "metadata": {}
        }, 
        {
            "source": "Downloading needed dependencies", 
            "cell_type": "markdown", 
            "metadata": {}
        }, 
        {
            "execution_count": null, 
            "cell_type": "code", 
            "metadata": {}, 
            "outputs": [
                {
                    "output_type": "stream", 
                    "name": "stdout", 
                    "text": "Solving environment: / "
                }
            ], 
            "source": "import numpy as np # library to handle data in a vectorized manner\n\nimport pandas as pd # library for data analsysis\npd.set_option('display.max_columns', None)\npd.set_option('display.max_rows', None)\n\nimport json # library to handle JSON files\n\n#!conda install -c conda-forge geopy --yes # uncomment this line if you haven't completed the Foursquare API lab\nfrom geopy.geocoders import Nominatim # convert an address into latitude and longitude values\n\nimport requests # library to handle requests\nfrom pandas.io.json import json_normalize # tranform JSON file into a pandas dataframe\n\n# Matplotlib and associated plotting modules\nimport matplotlib.cm as cm\nimport matplotlib.colors as colors\n\n# import k-means from clustering stage\nfrom sklearn.cluster import KMeans\n\n!conda install -c conda-forge folium=0.5.0 --yes # uncomment this line if you haven't completed the Foursquare API lab\nimport folium # map rendering library\n\nprint('Libraries imported.')"
        }, 
        {
            "source": "Getting coordinates of Toronto to make a map.", 
            "cell_type": "markdown", 
            "metadata": {}
        }, 
        {
            "execution_count": null, 
            "cell_type": "code", 
            "metadata": {}, 
            "outputs": [], 
            "source": "address = 'Toronto, Canada'\n\ngeolocator = Nominatim(user_agent=\"Toronto_explorer\")\nlocation = geolocator.geocode(address)\nlatitude = location.latitude\nlongitude = location.longitude\nprint('The geograpical coordinate of Toronto are {}, {}.'.format(latitude, longitude))"
        }, 
        {
            "source": "Creating a map of Toronto with Latitude and Longitude values", 
            "cell_type": "markdown", 
            "metadata": {}
        }, 
        {
            "execution_count": null, 
            "cell_type": "code", 
            "metadata": {}, 
            "outputs": [], 
            "source": "map_Toronto = folium.Map(location=[latitude, longitude], zoom_start=10)\n\n# add markers to map\nfor Latitude, Longitude, Borough, Neighbourhood in zip(df3['Latitude'], df3['Longitude'], df3['Borough'], df3['Neighbourhood']):\n    label = '{}, {}'.format(Neighbourhood, Borough)\n    label = folium.Popup(label, parse_html=True)\n    folium.CircleMarker(\n        [Latitude, Longitude],\n        radius=5,\n        popup=label,\n        color='blue',\n        fill=True,\n        fill_color='#3186cc',\n        fill_opacity=0.7,\n        parse_html=False).add_to(map_Toronto)  \n    \nmap_Toronto"
        }, 
        {
            "source": "Defining Foursquare Version and Credentials", 
            "cell_type": "markdown", 
            "metadata": {}
        }, 
        {
            "execution_count": null, 
            "cell_type": "code", 
            "metadata": {}, 
            "outputs": [], 
            "source": "CLIENT_ID = 'E42LDN2XXZVTYKH3KDJ4II1AURP4DYGRY3343X41UNEX4340' # your Foursquare ID\nCLIENT_SECRET = 'IGSUKCJ1CLR4SPE0PFJU0OBPCKXI03MJNQHTTCQQJEV50NEX' # your Foursquare Secret\nVERSION = '20180605' # Foursquare API version\n\nprint('Your credentails:')\nprint('CLIENT_ID: ' + CLIENT_ID)\nprint('CLIENT_SECRET:' + CLIENT_SECRET)"
        }, 
        {
            "source": "Per the instruction's recommendation I will cluster and explore only Boroughs containing the word \"Toronto\".\nCode below pulls rows with the word \"Toronto\" in the Borough name and stores them in the new dataframe called: Toronto_data", 
            "cell_type": "markdown", 
            "metadata": {}
        }, 
        {
            "execution_count": null, 
            "cell_type": "code", 
            "metadata": {}, 
            "outputs": [], 
            "source": "Toronto_data = df3[df3['Borough'].str.contains(\"Toronto\")].reset_index(drop=True)\nToronto_data"
        }, 
        {
            "source": "Getting Venues for all neighborhoods in the dataframe Toronto_Data", 
            "cell_type": "markdown", 
            "metadata": {}
        }, 
        {
            "execution_count": null, 
            "cell_type": "code", 
            "metadata": {}, 
            "outputs": [], 
            "source": "LIMIT = 100 # limit of number of venues returned by Foursquare API\n\nradius = 500 # define radius\n            \ndef getNearbyVenues(names, latitudes, longitudes, radius=500):\n    \n    venues_list=[]\n    for name, lat, lng in zip(names, latitudes, longitudes):\n        print(name)\n            \n        # create the API request URL\n        url = 'https://api.foursquare.com/v2/venues/explore?&client_id={}&client_secret={}&v={}&ll={},{}&radius={}&limit={}'.format(\n            CLIENT_ID, \n            CLIENT_SECRET, \n            VERSION, \n            lat, \n            lng, \n            radius, \n            LIMIT)\n            \n        # make the GET request\n        results = requests.get(url).json()[\"response\"]['groups'][0]['items']\n        \n        # return only relevant information for each nearby venue\n        venues_list.append([(\n            name, \n            lat, \n            lng, \n            v['venue']['name'], \n            v['venue']['location']['lat'], \n            v['venue']['location']['lng'],  \n            v['venue']['categories'][0]['name']) for v in results])\n\n    nearby_venues = pd.DataFrame([item for venue_list in venues_list for item in venue_list])\n    nearby_venues.columns = ['Neighbourhood', \n                  'Neighbourhood Latitude', \n                  'Neighbourhood Longitude', \n                  'Venue', \n                  'Venue Latitude', \n                  'Venue Longitude', \n                  'Venue Category']\n    \n    return(nearby_venues) "
        }, 
        {
            "source": "Running code for function above on each neighbourhood and creating a new dataframe called Toronto_venues", 
            "cell_type": "markdown", 
            "metadata": {}
        }, 
        {
            "execution_count": null, 
            "cell_type": "code", 
            "metadata": {}, 
            "outputs": [], 
            "source": "Toronto_venues = getNearbyVenues(names=Toronto_data['Neighbourhood'],\n                                   latitudes=Toronto_data['Latitude'],\n                                   longitudes=Toronto_data['Longitude']\n                                  )\n"
        }, 
        {
            "source": "Checking shape of new dataframe and tosee if Venues and Venue Category code ran.", 
            "cell_type": "markdown", 
            "metadata": {}
        }, 
        {
            "execution_count": null, 
            "cell_type": "code", 
            "metadata": {}, 
            "outputs": [], 
            "source": "print(Toronto_venues.shape)\nToronto_venues.head()"
        }, 
        {
            "source": "How many venues for each neighbourhood", 
            "cell_type": "markdown", 
            "metadata": {}
        }, 
        {
            "execution_count": null, 
            "cell_type": "code", 
            "metadata": {}, 
            "outputs": [], 
            "source": "Toronto_venues.groupby('Neighbourhood').count()"
        }, 
        {
            "source": "Seeing how many unique categories we have from our returns.", 
            "cell_type": "markdown", 
            "metadata": {}
        }, 
        {
            "execution_count": null, 
            "cell_type": "code", 
            "metadata": {}, 
            "outputs": [], 
            "source": "print('There are {} uniques categories.'.format(len(Toronto_venues['Venue Category'].unique())))"
        }, 
        {
            "source": "Analyzing each neighborhood.", 
            "cell_type": "markdown", 
            "metadata": {}
        }, 
        {
            "execution_count": null, 
            "cell_type": "code", 
            "metadata": {}, 
            "outputs": [], 
            "source": "# one hot encoding\nToronto_onehot = pd.get_dummies(Toronto_venues[['Venue Category']], prefix=\"\", prefix_sep=\"\")\n\n# add neighborhood column back to dataframe\nToronto_onehot['Neighbourhood'] = Toronto_venues['Neighbourhood'] \n\n# move neighborhood column to the first column\nfixed_columns = [Toronto_onehot.columns[-1]] + list(Toronto_onehot.columns[:-1])\nToronto_onehot = Toronto_onehot[fixed_columns]\n\nToronto_onehot.head()"
        }, 
        {
            "source": "Grouping rows by neighborhood and getting means of frequency of each venue category.", 
            "cell_type": "markdown", 
            "metadata": {}
        }, 
        {
            "execution_count": null, 
            "cell_type": "code", 
            "metadata": {}, 
            "outputs": [], 
            "source": "Toronto_group = Toronto_onehot.groupby('Neighbourhood').mean().reset_index()\nToronto_group"
        }, 
        {
            "execution_count": null, 
            "cell_type": "code", 
            "metadata": {}, 
            "outputs": [], 
            "source": "Toronto_group.shape"
        }, 
        {
            "source": "Printing each neighborhood with top 5 most common venues", 
            "cell_type": "markdown", 
            "metadata": {}
        }, 
        {
            "execution_count": null, 
            "cell_type": "code", 
            "metadata": {}, 
            "outputs": [], 
            "source": "num_top_venues = 5\n\nfor hood in Toronto_group['Neighbourhood']:\n    print(\"----\"+hood+\"----\")\n    temp = Toronto_group[Toronto_group['Neighbourhood'] == hood].T.reset_index()\n    temp.columns = ['venue','freq']\n    temp = temp.iloc[1:]\n    temp['freq'] = temp['freq'].astype(float)\n    temp = temp.round({'freq': 2})\n    print(temp.sort_values('freq', ascending=False).reset_index(drop=True).head(num_top_venues))\n    print('\\n')"
        }, 
        {
            "source": "Sorting in descending order before putting in new dataframe", 
            "cell_type": "markdown", 
            "metadata": {}
        }, 
        {
            "execution_count": null, 
            "cell_type": "code", 
            "metadata": {}, 
            "outputs": [], 
            "source": "def return_most_common_venues(row, num_top_venues):\n    row_categories = row.iloc[1:]\n    row_categories_sorted = row_categories.sort_values(ascending=False)\n    \n    return row_categories_sorted.index.values[0:num_top_venues]"
        }, 
        {
            "execution_count": null, 
            "cell_type": "code", 
            "metadata": {}, 
            "outputs": [], 
            "source": "num_top_venues = 10\n\nindicators = ['st', 'nd', 'rd']\n\n# create columns according to number of top venues\ncolumns = ['Neighbourhood']\nfor ind in np.arange(num_top_venues):\n    try:\n        columns.append('{}{} Most Common Venue'.format(ind+1, indicators[ind]))\n    except:\n        columns.append('{}th Most Common Venue'.format(ind+1))\n\n# create a new dataframe\nneighbourhoods_venues_sorted = pd.DataFrame(columns=columns)\nneighbourhoods_venues_sorted['Neighbourhood'] = Toronto_group['Neighbourhood']\n\nfor ind in np.arange(Toronto_group.shape[0]):\n    neighbourhoods_venues_sorted.iloc[ind, 1:] = return_most_common_venues(Toronto_group.iloc[ind, :], num_top_venues)\n\nneighbourhoods_venues_sorted.head()"
        }, 
        {
            "source": "Cluster neighbourhoods using K means into 5 clusters.", 
            "cell_type": "markdown", 
            "metadata": {}
        }, 
        {
            "execution_count": null, 
            "cell_type": "code", 
            "metadata": {}, 
            "outputs": [], 
            "source": "# set number of clusters\nkclusters = 5\n\nToronto_group_clustering = Toronto_group.drop('Neighbourhood', 1)\n\n# run k-means clustering\nkmeans = KMeans(n_clusters=kclusters, random_state=0).fit(Toronto_group_clustering)\n\n# check cluster labels generated for each row in the dataframe\nkmeans.labels_[0:10] "
        }, 
        {
            "source": "New dataframe for clusters and top 10 venues in each neighborhood.", 
            "cell_type": "markdown", 
            "metadata": {}
        }, 
        {
            "execution_count": null, 
            "cell_type": "code", 
            "metadata": {}, 
            "outputs": [], 
            "source": "# add clustering labels\nneighbourhoods_venues_sorted.insert(0, 'Cluster Labels', kmeans.labels_)"
        }, 
        {
            "execution_count": null, 
            "cell_type": "code", 
            "metadata": {}, 
            "outputs": [], 
            "source": "Toronto_merged = Toronto_data\n\n# merge toronto_grouped with toronto_data to add latitude/longitude for each neighborhood\nToronto_merged = Toronto_merged.join(neighbourhoods_venues_sorted.set_index('Neighbourhood'), on='Neighbourhood')\n\nToronto_merged.head() "
        }, 
        {
            "source": "Visualizing clusters", 
            "cell_type": "markdown", 
            "metadata": {}
        }, 
        {
            "execution_count": null, 
            "cell_type": "code", 
            "metadata": {}, 
            "outputs": [], 
            "source": "# create map\nmap_clusters = folium.Map(location=[latitude, longitude], zoom_start=11)\n\n# set color scheme for the clusters\nx = np.arange(kclusters)\nys = [i + x + (i*x)**2 for i in range(kclusters)]\ncolors_array = cm.rainbow(np.linspace(0, 1, len(ys)))\nrainbow = [colors.rgb2hex(i) for i in colors_array]\n\n# add markers to the map\nmarkers_colors = []\nfor lat, lon, poi, cluster in zip(Toronto_merged['Latitude'], Toronto_merged['Longitude'], Toronto_merged['Neighbourhood'], Toronto_merged['Cluster Labels']):\n    label = folium.Popup(str(poi) + ' Cluster ' + str(cluster), parse_html=True)\n    folium.CircleMarker(\n        [lat, lon],\n        radius=5,\n        popup=label,\n        color=rainbow[cluster-1],\n        fill=True,\n        fill_color=rainbow[cluster-1],\n        fill_opacity=0.7).add_to(map_clusters)\n       \nmap_clusters"
        }, 
        {
            "source": "Now to examine the clusters to see what makes them unique.", 
            "cell_type": "markdown", 
            "metadata": {}
        }, 
        {
            "execution_count": null, 
            "cell_type": "code", 
            "metadata": {}, 
            "outputs": [], 
            "source": "#Cluster 1\nToronto_merged.loc[Toronto_merged['Cluster Labels'] == 0, Toronto_merged.columns[[1] + list(range(5, Toronto_merged.shape[1]))]]"
        }, 
        {
            "execution_count": null, 
            "cell_type": "code", 
            "metadata": {}, 
            "outputs": [], 
            "source": "#Cluster 2\nToronto_merged.loc[Toronto_merged['Cluster Labels'] == 1, Toronto_merged.columns[[1] + list(range(5, Toronto_merged.shape[1]))]]"
        }, 
        {
            "execution_count": null, 
            "cell_type": "code", 
            "metadata": {}, 
            "outputs": [], 
            "source": "#Cluster 3\nToronto_merged.loc[Toronto_merged['Cluster Labels'] == 2, Toronto_merged.columns[[1] + list(range(5, Toronto_merged.shape[1]))]]"
        }, 
        {
            "execution_count": null, 
            "cell_type": "code", 
            "metadata": {}, 
            "outputs": [], 
            "source": "#Cluster 4\nToronto_merged.loc[Toronto_merged['Cluster Labels'] == 3, Toronto_merged.columns[[1] + list(range(5, Toronto_merged.shape[1]))]]"
        }, 
        {
            "execution_count": null, 
            "cell_type": "code", 
            "metadata": {}, 
            "outputs": [], 
            "source": "#Cluster 5\nToronto_merged.loc[Toronto_merged['Cluster Labels'] == 4, Toronto_merged.columns[[1] + list(range(5, Toronto_merged.shape[1]))]]"
        }, 
        {
            "source": "Naming clusters based on 1st Most common venue and location if 1st common venue is the same as in Clussters 4 and 5.\n\nCluster 1:  Coffee Shop Cluster\nCluster 2:  Garden Cluster\nCluster 3:  Restaurant Cluster\nCluster 4:  North Park Cluster\nCluster 5:  Central Park Cluster", 
            "cell_type": "markdown", 
            "metadata": {}
        }, 
        {
            "execution_count": null, 
            "cell_type": "code", 
            "metadata": {}, 
            "outputs": [], 
            "source": ""
        }
    ], 
    "metadata": {
        "kernelspec": {
            "display_name": "Python 3.6", 
            "name": "python3", 
            "language": "python"
        }, 
        "language_info": {
            "mimetype": "text/x-python", 
            "nbconvert_exporter": "python", 
            "version": "3.6.8", 
            "name": "python", 
            "file_extension": ".py", 
            "pygments_lexer": "ipython3", 
            "codemirror_mode": {
                "version": 3, 
                "name": "ipython"
            }
        }
    }, 
    "nbformat": 4
}